{
 "cells": [
  {
   "cell_type": "markdown",
   "metadata": {},
   "source": [
    "This notebook generates a a cross-species browser whereby clicking on a point in the pig shows you the nearest connctopic vertex in the human and vice versa. This notebook requires HCP workbecnh to be installed and in your local path https://www.humanconnectome.org/software/get-connectome-workbench"
   ]
  },
  {
   "cell_type": "code",
   "execution_count": null,
   "metadata": {
    "tags": []
   },
   "outputs": [],
   "source": [
    "#### do our imports\n",
    "import numpy as np\n",
    "import nibabel as nib\n",
    "import scipy.io as sio\n",
    "from scipy import stats\n",
    "import pandas as pd\n",
    "import math\n",
    "import h5py\n",
    "import os,sys,argparse,re\n",
    "import nilearn\n",
    "import matplotlib.pyplot as plt\n",
    "from IPython.display import display, HTML\n",
    "import subprocess as sp\n",
    "%matplotlib inline"
   ]
  },
  {
   "cell_type": "code",
   "execution_count": null,
   "metadata": {
    "tags": []
   },
   "outputs": [],
   "source": [
    "###### load all data\n",
    "###### left hemisphere \n",
    "Lpig=h5py.File('./blueprints/L_pig27.mat','r')\n",
    "variables=Lpig.items()\n",
    "for var in variables:\n",
    "    pig_name=var[0]\n",
    "    pig_data=var[1]\n",
    "    pig_data=np.array(pig_data).transpose()\n",
    "    Lpig_data=pig_data\n",
    "Lhum=h5py.File('./blueprints/L_hum27.mat','r')\n",
    "variables=Lhum.items()\n",
    "for var in variables:\n",
    "    hum_name=var[0]\n",
    "    hum_data=var[1]\n",
    "    Lhum_data=np.array(hum_data).transpose()\n",
    "    \n",
    "    ######## load all data\n",
    "Rpig=h5py.File('./blueprints/R_pig27.mat','r')\n",
    "variables=Rpig.items()\n",
    "for var in variables:\n",
    "    pig_name=var[0]\n",
    "    pig_data=var[1]\n",
    "    pig_data=np.array(pig_data).transpose()\n",
    "    Rpig_data=pig_data\n",
    "Rhum=h5py.File('./blueprints/R_hum27.mat','r')\n",
    "variables=Rhum.items()\n",
    "for var in variables:\n",
    "    hum_name=var[0]\n",
    "    hum_data=var[1]\n",
    "    Rhum_data=np.array(hum_data).transpose()\n",
    "    \n",
    "    "
   ]
  },
  {
   "cell_type": "code",
   "execution_count": null,
   "metadata": {
    "tags": []
   },
   "outputs": [],
   "source": [
    "##### define KL calculation\n",
    "### Calculate the KL divergence as done in the Mars blueprint paper\n",
    "def calc_kl(A,B):\n",
    "    if type(A) == dict:\n",
    "        A=list(A.values())\n",
    "        A=np.array(A).transpose()\n",
    "    else:\n",
    "            pass\n",
    "    if type(B) == dict:\n",
    "        B=list(B.values())\n",
    "        B=np.array(B).transpose()\n",
    "    else:\n",
    "        pass\n",
    "    \n",
    "    p=A.shape\n",
    "    p=p[0]\n",
    "\n",
    "    ## function takes two numpy arrays that are the blueprints not normalized\n",
    "    def normalize(BP,p):\n",
    "        BP[(np.isnan(BP))]=0\n",
    "        row_sums=BP.sum(axis=1)\n",
    "        BP=BP/row_sums[:,np.newaxis]\n",
    "        return BP\n",
    "    \n",
    "    A=normalize(A,p)\n",
    "    B=normalize(B,p)\n",
    "    Amask= A!=0\n",
    "    A_invmask=Amask!=1\n",
    "    Bmask= B !=0\n",
    "    B_invmask=Bmask!=1\n",
    " \n",
    "    ##### pyhton implementation of Saad Jaabdi's matlab code fo KL divergence\n",
    "    KL=np.dot(np.multiply(A,(np.log2((A+A_invmask)))),Bmask.transpose()) \\\n",
    "    - np.dot(A,(Bmask*np.log2(B+B_invmask)).transpose()) \\\n",
    "    + np.dot(Amask,(B*np.log2(B+B_invmask)).transpose())\\\n",
    "    - np.dot(Amask*np.log2(A+A_invmask),B.transpose())\n",
    "    return KL,A,B"
   ]
  },
  {
   "cell_type": "code",
   "execution_count": null,
   "metadata": {
    "tags": []
   },
   "outputs": [],
   "source": [
    "### get KL's for cross species browser tool\n",
    "###LEFT hemispehre\n",
    "### cross species\n",
    "L_HP=calc_kl(Lhum_data,Lpig_data)[0]\n",
    "L_PH=calc_kl(Lpig_data,Lhum_data)[0]\n",
    "### within hemisphere\n",
    "L_HH=calc_kl(Lhum_data,Lhum_data)[0]\n",
    "L_PP=calc_kl(Lpig_data,Lpig_data)[0]\n",
    "\n",
    "#### RIGHT hemisphere\n",
    "### cross species\n",
    "R_HP=calc_kl(Rhum_data,Rpig_data)[0]\n",
    "R_PH=calc_kl(Rpig_data,Rhum_data)[0]\n",
    "### within hemisphere\n",
    "R_HH=calc_kl(Rhum_data,Rhum_data)[0]\n",
    "R_PP=calc_kl(Rpig_data,Rpig_data)[0]\n",
    "\n"
   ]
  },
  {
   "cell_type": "code",
   "execution_count": null,
   "metadata": {
    "tags": []
   },
   "outputs": [],
   "source": [
    "LH=np.hstack((L_HP,L_HH))\n",
    "LP=np.hstack((L_PH,L_PP))\n",
    "L=np.vstack((LH,LP))\n",
    "\n",
    "RH=np.hstack((R_HP,R_HH))\n",
    "RP=np.hstack((R_PH,R_PP))\n",
    "R=np.vstack((RH,RP))\n",
    "del L_HP,L_HH,L_PH,L_PP,R_HP,R_HH,R_PH,R_PP"
   ]
  },
  {
   "cell_type": "code",
   "execution_count": null,
   "metadata": {
    "tags": []
   },
   "outputs": [],
   "source": [
    "#### save the joint matrix \n",
    "sio.savemat('./Cross_species_browser/L_clicky.mat',mdict={'L': L})\n",
    "sio.savemat('./Cross_species_browser/R_clicky.mat',mdict={'R': R})"
   ]
  },
  {
   "cell_type": "code",
   "execution_count": null,
   "metadata": {},
   "outputs": [],
   "source": []
  },
  {
   "cell_type": "code",
   "execution_count": null,
   "metadata": {},
   "outputs": [],
   "source": [
    "##### define clicky tool function\n",
    "def clicky_tool(data,hemi,outdir,outname):\n",
    "    #### create and empty gifti image\n",
    "    out=f'{outdir}/{hemi}_{outname}'\n",
    "    gi = nib.gifti.GiftiImage()\n",
    "    da = nib.gifti.GiftiDataArray(np.float32(np.zeros(data.shape)), intent=0)\n",
    "    gi.add_gifti_data_array(da)\n",
    "    nib.save(gi,f'{out}.func.gii')\n",
    "    #### first wb_commans\n",
    "    cmd1=f'wb_command -cifti-create-dense-timeseries {out}.dtseries.nii -left-metric {out}.func.gii'\n",
    "    print(cmd1)\n",
    "    !{cmd1}\n",
    "    print('running -cifti-correlation')\n",
    "    cmd2=f'wb_command -cifti-correlation {out}.dtseries.nii {out}.dconn.nii'\n",
    "    print(cmd2)\n",
    "    !{cmd2}\n",
    "    \n",
    "    cft=nib.load(f'{out}.dconn.nii')\n",
    "    im_obj=cft.header\n",
    "    imdat = np.float32(data)\n",
    "    new=nib.Cifti2Image(imdat,im_obj,cft.nifti_header)\n",
    "    nib.save(new,f'{out}.dconn.nii')\n",
    "\n",
    "\n",
    "clicky_tool(L,'L','./Cross_species_browser/','hum_pig_double_click')\n",
    "clicky_tool(R,'R','./Cross_species_browser/','hum_pig_double_click')\n",
    "\n",
    "\n",
    "\n",
    "\n"
   ]
  },
  {
   "cell_type": "code",
   "execution_count": null,
   "metadata": {},
   "outputs": [],
   "source": [
    "!rm ./Cross_species_browser/L_hum_pig_double_click.dtseries.nii\n",
    "!rm ./Cross_species_browser/L_hum_pig_double_click.func.gii\n",
    "\n",
    "!rm ./Cross_species_browser/R_hum_pig_double_click.dtseries.nii\n",
    "!rm ./Cross_species_browser/R_hum_pig_double_click.func.gii"
   ]
  },
  {
   "cell_type": "code",
   "execution_count": null,
   "metadata": {},
   "outputs": [],
   "source": [
    "!wb_command -add-to-spec-file L.CrossSpeciesBrowser.spec CORTEX_LEFT ./Cross_species_browser/L_hum_pig_double_click.dconn.nii\n",
    "\n",
    "!wb_command -add-to-spec-file R.CrossSpeciesBrowser.spec CORTEX_RIGHT ./Cross_species_browser/R_hum_pig_double_click.dconn.nii"
   ]
  },
  {
   "cell_type": "code",
   "execution_count": null,
   "metadata": {},
   "outputs": [],
   "source": []
  }
 ],
 "metadata": {
  "kernelspec": {
   "display_name": "Python 3 (ipykernel)",
   "language": "python",
   "name": "python3"
  },
  "language_info": {
   "codemirror_mode": {
    "name": "ipython",
    "version": 3
   },
   "file_extension": ".py",
   "mimetype": "text/x-python",
   "name": "python",
   "nbconvert_exporter": "python",
   "pygments_lexer": "ipython3",
   "version": "3.10.4"
  }
 },
 "nbformat": 4,
 "nbformat_minor": 4
}
